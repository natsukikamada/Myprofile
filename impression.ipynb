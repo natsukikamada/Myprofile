{
  "nbformat": 4,
  "nbformat_minor": 0,
  "metadata": {
    "colab": {
      "name": "1922058_5月11日課題.ipynb",
      "provenance": [],
      "toc_visible": true
    },
    "kernelspec": {
      "name": "python3",
      "display_name": "Python 3"
    }
  },
  "cells": [
    {
      "cell_type": "markdown",
      "metadata": {
        "id": "g3f60b9wMXf3",
        "colab_type": "text"
      },
      "source": [
        "# 個人課題のサンプルプログラム\n",
        "- filepathで指定した画像ファイルを読み込み、その画像のRGB値の平均をNumpyのArrayで【行ベクトルで】返す関数　ext_mean_rgb(filepath)\n",
        "- RGB値をnumpy array、qcolor=np.array([r,g,b])で与えられると[赤,橙,黄,緑,青,紫,ピンク,白,グレー,黒]の重みを成分とする10次元ベクトルが出力される関数gen_color_vec(qcolor)\n",
        "\n",
        "## やること\n",
        "- 「15分で理解する色彩と心理学の関係－色が人間の心に与える影響」(https://re-sta.jp/color-psychology-7787 )を読みながら印象を表す語と10色の関係を表す行列を作ってみよう\n",
        "- 画像データをファイルパスで指定するとその画像データの色の印象から喚起される語が出力されるようなプログラムを作ってみよう\n",
        "\n",
        "\n",
        "### ヒント\n",
        "- 印象を表す語と10色(赤,橙,黄,緑,青,紫,ピンク,白,グレー,黒)の関係を表す行列を$A$作成するためには、その語が書いてあれば「1」、書いてなければ「0」で表現する行列を作成すればよい。\n",
        "- 上記のext_mean_rgb(filepath)、gen_color_vec(qcolor)を使えば、画像データから10色の要素からなる10次元のベクトルが出力される。\n",
        "- あとは、${\\bf y}=A{\\bf x}$を計算すれば、${\\bf y}$が各語の重みになるため、重みの大きいものから順番に列挙できれば完成\n"
      ]
    },
    {
      "cell_type": "code",
      "metadata": {
        "id": "Il-qVSXXMZnK",
        "colab_type": "code",
        "colab": {
          "base_uri": "https://localhost:8080/",
          "height": 35
        },
        "outputId": "99927d23-b978-4379-8d0c-4b562530cf55"
      },
      "source": [
        "from google.colab import drive\n",
        "drive.mount('/content/drive')"
      ],
      "execution_count": 24,
      "outputs": [
        {
          "output_type": "stream",
          "text": [
            "Drive already mounted at /content/drive; to attempt to forcibly remount, call drive.mount(\"/content/drive\", force_remount=True).\n"
          ],
          "name": "stdout"
        }
      ]
    },
    {
      "cell_type": "code",
      "metadata": {
        "id": "d6x8yWTzM0aa",
        "colab_type": "code",
        "colab": {}
      },
      "source": [
        "from PIL import Image\n",
        "import numpy as np\n",
        "import os\n",
        "\n",
        "# filepathで指定した画像ファイルを読み込み、その画像のRGB値の平均をNumpyのArrayで【行ベクトルで】返す関数　ext_mean_rgb(filepath)\n",
        "def ext_mean_rgb(filepath):\n",
        "  image = np.array(Image.open(filepath).convert('RGB')).reshape(-1,3)\n",
        "  return np.array([np.mean(image[:,0]),np.mean(image[:,1]),np.mean(image[:,2])])"
      ],
      "execution_count": 0,
      "outputs": []
    },
    {
      "cell_type": "code",
      "metadata": {
        "id": "5ulqndI1NM3k",
        "colab_type": "code",
        "colab": {}
      },
      "source": [
        "import numpy as np\n",
        "from scipy.spatial import distance\n",
        "\n",
        "# RGB値をnumpy array、qcolor=np.array([r,g,b])で与えられると[赤,橙,黄,緑,青,紫,ピンク,白,グレー,黒]の重みを成分とする10次元ベクトルが出力される関数gen_color_vec(qcolor)\n",
        "def gen_color_vec(qcolor):\n",
        "  colorvec=np.array([])\n",
        "  palette=np.array(\n",
        "      [\n",
        "       [255,0,0], #赤\n",
        "      [255,102,0],  #橙\n",
        "      [255,255,0],  #黄\n",
        "      [0,128,0],  #緑\n",
        "      [0,0,255],  #青\n",
        "      [128,0,128],  #紫\n",
        "      [255,0,255],  #ピンク\n",
        "      [255,255,255],  #白\n",
        "      [128,128,128],  #グレー\n",
        "      [0,0,0] #黒\n",
        "      ])\n",
        "  for col in palette:\n",
        "    colorvec=np.append(colorvec,distance.euclidean(col,qcolor))\n",
        "  colorvec=1-colorvec/np.linalg.norm(colorvec,np.inf)\n",
        "  return colorvec"
      ],
      "execution_count": 0,
      "outputs": []
    },
    {
      "cell_type": "code",
      "metadata": {
        "id": "fWyVOftnNQtn",
        "colab_type": "code",
        "colab": {
          "base_uri": "https://localhost:8080/",
          "height": 192
        },
        "outputId": "3bd13156-0204-492d-c194-ccae6a7b907d"
      },
      "source": [
        "filepath='/content/kagaya.jpeg'\n",
        "x=gen_color_vec(ext_mean_rgb(filepath)).reshape(-1,1)\n",
        "x"
      ],
      "execution_count": 27,
      "outputs": [
        {
          "output_type": "execute_result",
          "data": {
            "text/plain": [
              "array([[0.1559164 ],\n",
              "       [0.21476393],\n",
              "       [0.        ],\n",
              "       [0.34797851],\n",
              "       [0.37008224],\n",
              "       [0.66014634],\n",
              "       [0.21974851],\n",
              "       [0.05326072],\n",
              "       [0.79962185],\n",
              "       [0.29255309]])"
            ]
          },
          "metadata": {
            "tags": []
          },
          "execution_count": 27
        }
      ]
    },
    {
      "cell_type": "code",
      "metadata": {
        "id": "ku-_V61ONWWJ",
        "colab_type": "code",
        "colab": {
          "base_uri": "https://localhost:8080/",
          "height": 35
        },
        "outputId": "cb54513c-c5fe-4aaf-85e7-6074e5c70011"
      },
      "source": [
        "x.shape"
      ],
      "execution_count": 28,
      "outputs": [
        {
          "output_type": "execute_result",
          "data": {
            "text/plain": [
              "(10, 1)"
            ]
          },
          "metadata": {
            "tags": []
          },
          "execution_count": 28
        }
      ]
    },
    {
      "cell_type": "code",
      "metadata": {
        "id": "x4FszB6eNY8q",
        "colab_type": "code",
        "colab": {
          "base_uri": "https://localhost:8080/",
          "height": 367
        },
        "outputId": "683af693-9863-4617-8756-d6734a602e3b"
      },
      "source": [
        "# 行列A（色と印象の関係を表す行列）の作成\n",
        "# 行を印象語20個（上から熱い、強い、暖かい、希望、輝き、刺激的、安らぎ、生鮮、広大、爽やか、神秘的、高貴、やわらかい、明るい、神聖、清潔、シック、不安、かっこいい、静寂）\n",
        "# 列を10色(左から赤、橙、黄、緑、青、紫、ピンク、白、グレー、黒)\n",
        "# 印象語に当てはまる場合1,当てはまらない場合0とする\n",
        "A = np.array(\n",
        "    [\n",
        "     [1,0,0,0,0,0,0,0,0,0],\n",
        "    [1,0,0,0,0,0,0,0,0,1],\n",
        "    [1,1,0,0,0,0,0,0,0,0],\n",
        "    [1,1,1,0,1,0,0,0,0,0],\n",
        "    [0,0,1,0,0,0,0,1,0,0],\n",
        "    [1,0,1,0,0,0,0,0,0,0],\n",
        "    [0,0,0,1,1,0,1,0,0,0],\n",
        "    [0,0,0,1,0,0,0,0,0,0],\n",
        "    [0,0,0,0,1,0,0,0,0,0],\n",
        "    [0,0,0,1,1,0,0,1,0,0],\n",
        "    [0,0,0,0,0,1,0,1,0,0],\n",
        "    [0,0,0,0,0,1,0,0,0,1],\n",
        "    [0,1,0,1,0,0,1,0,0,0],\n",
        "    [1,1,1,0,0,0,0,1,0,0],\n",
        "    [0,0,0,0,0,1,0,1,0,0],\n",
        "    [0,0,0,0,0,0,0,1,0,0],\n",
        "    [0,0,0,0,0,1,0,0,1,1],\n",
        "    [0,0,0,0,0,1,0,0,1,1],\n",
        "    [0,0,0,0,0,0,0,0,0,1],\n",
        "    [0,0,0,0,0,1,0,0,1,1],\n",
        "    ]\n",
        ")\n",
        "A"
      ],
      "execution_count": 39,
      "outputs": [
        {
          "output_type": "execute_result",
          "data": {
            "text/plain": [
              "array([[1, 0, 0, 0, 0, 0, 0, 0, 0, 0],\n",
              "       [1, 0, 0, 0, 0, 0, 0, 0, 0, 1],\n",
              "       [1, 1, 0, 0, 0, 0, 0, 0, 0, 0],\n",
              "       [1, 1, 1, 0, 1, 0, 0, 0, 0, 0],\n",
              "       [0, 0, 1, 0, 0, 0, 0, 1, 0, 0],\n",
              "       [1, 0, 1, 0, 0, 0, 0, 0, 0, 0],\n",
              "       [0, 0, 0, 1, 1, 0, 1, 0, 0, 0],\n",
              "       [0, 0, 0, 1, 0, 0, 0, 0, 0, 0],\n",
              "       [0, 0, 0, 0, 1, 0, 0, 0, 0, 0],\n",
              "       [0, 0, 0, 1, 1, 0, 0, 1, 0, 0],\n",
              "       [0, 0, 0, 0, 0, 1, 0, 1, 0, 0],\n",
              "       [0, 0, 0, 0, 0, 1, 0, 0, 0, 1],\n",
              "       [0, 1, 0, 1, 0, 0, 1, 0, 0, 0],\n",
              "       [1, 1, 1, 0, 0, 0, 0, 1, 0, 0],\n",
              "       [0, 0, 0, 0, 0, 1, 0, 1, 0, 0],\n",
              "       [0, 0, 0, 0, 0, 0, 0, 1, 0, 0],\n",
              "       [0, 0, 0, 0, 0, 1, 0, 0, 1, 1],\n",
              "       [0, 0, 0, 0, 0, 1, 0, 0, 1, 1],\n",
              "       [0, 0, 0, 0, 0, 0, 0, 0, 0, 1],\n",
              "       [0, 0, 0, 0, 0, 1, 0, 0, 1, 1]])"
            ]
          },
          "metadata": {
            "tags": []
          },
          "execution_count": 39
        }
      ]
    },
    {
      "cell_type": "code",
      "metadata": {
        "id": "AXduVfgwiQd8",
        "colab_type": "code",
        "colab": {
          "base_uri": "https://localhost:8080/",
          "height": 367
        },
        "outputId": "6726ebdf-785f-484b-9363-61884ad7f002"
      },
      "source": [
        "#重みy\n",
        "y = np.dot(A,x)\n",
        "y"
      ],
      "execution_count": 11,
      "outputs": [
        {
          "output_type": "execute_result",
          "data": {
            "text/plain": [
              "array([[0.1559164 ],\n",
              "       [0.44846949],\n",
              "       [0.37068033],\n",
              "       [0.74076256],\n",
              "       [0.05326072],\n",
              "       [0.1559164 ],\n",
              "       [0.93780926],\n",
              "       [0.34797851],\n",
              "       [0.37008224],\n",
              "       [0.77132147],\n",
              "       [0.71340707],\n",
              "       [0.95269943],\n",
              "       [0.78249095],\n",
              "       [0.42394105],\n",
              "       [0.71340707],\n",
              "       [0.05326072],\n",
              "       [1.75232128],\n",
              "       [1.75232128],\n",
              "       [0.29255309],\n",
              "       [1.75232128]])"
            ]
          },
          "metadata": {
            "tags": []
          },
          "execution_count": 11
        }
      ]
    },
    {
      "cell_type": "code",
      "metadata": {
        "id": "_YLT4ZcOzARG",
        "colab_type": "code",
        "colab": {
          "base_uri": "https://localhost:8080/",
          "height": 35
        },
        "outputId": "dcbe40ce-de14-4215-bf27-4fad3f6d4755"
      },
      "source": [
        "#印象語の行列\n",
        "color_word = np.array(\n",
        "              [\n",
        "               [\"熱い\"],\n",
        "              [\"強い\"],\n",
        "              [\"暖かい\"],\n",
        "              [\"希望\"],\n",
        "              [\"輝き\"],\n",
        "              [\"刺激的\"],\n",
        "              [\"安らぎ\"],\n",
        "              [\"生鮮\"],\n",
        "              [\"広大\"],\n",
        "              [\"爽やか\"],\n",
        "              [\"神秘的\"],\n",
        "              [\"高貴\"],\n",
        "              [\"やわらかい\"],\n",
        "              [\"明るい\"],\n",
        "              [\"神聖\"],\n",
        "              [\"清潔\"],\n",
        "              [\"シック\"],\n",
        "              [\"不安\"],\n",
        "              [\"かっこいい\"],\n",
        "              [\"静寂\"],\n",
        "              ])\n",
        "color_word.shape"
      ],
      "execution_count": 234,
      "outputs": [
        {
          "output_type": "execute_result",
          "data": {
            "text/plain": [
              "(20, 1)"
            ]
          },
          "metadata": {
            "tags": []
          },
          "execution_count": 234
        }
      ]
    },
    {
      "cell_type": "code",
      "metadata": {
        "id": "c0aWBrztakoa",
        "colab_type": "code",
        "colab": {
          "base_uri": "https://localhost:8080/",
          "height": 367
        },
        "outputId": "fd0bc541-c255-47ef-a61b-fae6f9c24e4b"
      },
      "source": [
        "# 印象語の行列と重みを結合\n",
        "color_image = np.concatenate((y, color_word), axis=1)\n",
        "color_image"
      ],
      "execution_count": 235,
      "outputs": [
        {
          "output_type": "execute_result",
          "data": {
            "text/plain": [
              "array([['0.1559163992032062', '熱い'],\n",
              "       ['0.4484694885512883', '強い'],\n",
              "       ['0.370680325014212', '暖かい'],\n",
              "       ['0.74076256062554', '希望'],\n",
              "       ['0.053260723059680215', '輝き'],\n",
              "       ['0.1559163992032062', '刺激的'],\n",
              "       ['0.9378092554137897', '安らぎ'],\n",
              "       ['0.3479785072317141', '生鮮'],\n",
              "       ['0.370082235611328', '広大'],\n",
              "       ['0.7713214659027223', '爽やか'],\n",
              "       ['0.7134070659546431', '神秘的'],\n",
              "       ['0.952699432243045', '高貴'],\n",
              "       ['0.7824909456134674', 'やわらかい'],\n",
              "       ['0.4239410480738922', '明るい'],\n",
              "       ['0.7134070659546431', '神聖'],\n",
              "       ['0.053260723059680215', '清潔'],\n",
              "       ['1.7523212800195318', 'シック'],\n",
              "       ['1.7523212800195318', '不安'],\n",
              "       ['0.2925530893480821', 'かっこいい'],\n",
              "       ['1.7523212800195318', '静寂']], dtype='<U32')"
            ]
          },
          "metadata": {
            "tags": []
          },
          "execution_count": 235
        }
      ]
    },
    {
      "cell_type": "code",
      "metadata": {
        "id": "bJZF8BHzUhsu",
        "colab_type": "code",
        "colab": {
          "base_uri": "https://localhost:8080/",
          "height": 367
        },
        "outputId": "83d4b1c6-e62c-40cc-ca25-5729bfc0a088"
      },
      "source": [
        "# 重みの順に出力\n",
        "color_image_new = sorted(color_image,key=lambda x:x[0])[::-1]\n",
        "color_image_new"
      ],
      "execution_count": 244,
      "outputs": [
        {
          "output_type": "execute_result",
          "data": {
            "text/plain": [
              "[array(['1.7523212800195318', '静寂'], dtype='<U32'),\n",
              " array(['1.7523212800195318', '不安'], dtype='<U32'),\n",
              " array(['1.7523212800195318', 'シック'], dtype='<U32'),\n",
              " array(['0.952699432243045', '高貴'], dtype='<U32'),\n",
              " array(['0.9378092554137897', '安らぎ'], dtype='<U32'),\n",
              " array(['0.7824909456134674', 'やわらかい'], dtype='<U32'),\n",
              " array(['0.7713214659027223', '爽やか'], dtype='<U32'),\n",
              " array(['0.74076256062554', '希望'], dtype='<U32'),\n",
              " array(['0.7134070659546431', '神聖'], dtype='<U32'),\n",
              " array(['0.7134070659546431', '神秘的'], dtype='<U32'),\n",
              " array(['0.4484694885512883', '強い'], dtype='<U32'),\n",
              " array(['0.4239410480738922', '明るい'], dtype='<U32'),\n",
              " array(['0.370680325014212', '暖かい'], dtype='<U32'),\n",
              " array(['0.370082235611328', '広大'], dtype='<U32'),\n",
              " array(['0.3479785072317141', '生鮮'], dtype='<U32'),\n",
              " array(['0.2925530893480821', 'かっこいい'], dtype='<U32'),\n",
              " array(['0.1559163992032062', '刺激的'], dtype='<U32'),\n",
              " array(['0.1559163992032062', '熱い'], dtype='<U32'),\n",
              " array(['0.053260723059680215', '清潔'], dtype='<U32'),\n",
              " array(['0.053260723059680215', '輝き'], dtype='<U32')]"
            ]
          },
          "metadata": {
            "tags": []
          },
          "execution_count": 244
        }
      ]
    }
  ]
}